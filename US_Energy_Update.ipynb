{
 "cells": [
  {
   "cell_type": "markdown",
   "metadata": {},
   "source": [
    "## Graphs and tables for the weekly fundamentals review"
   ]
  },
  {
   "cell_type": "code",
   "execution_count": 3,
   "metadata": {
    "collapsed": false
   },
   "outputs": [],
   "source": [
    "import Quandl\n",
    "import numpy as np\n",
    "import pandas as pd\n",
    "import datetime as dt  \n",
    "from dateutil.relativedelta import *\n",
    "import calendar\n",
    "import requests\n",
    "from pprint import pprint\n",
    "import json"
   ]
  },
  {
   "cell_type": "code",
   "execution_count": 4,
   "metadata": {
    "collapsed": false
   },
   "outputs": [
    {
     "data": {
      "text/html": [
       "\n",
       "    <div class=\"bk-banner\">\n",
       "        <a href=\"http://bokeh.pydata.org\" target=\"_blank\" class=\"bk-logo bk-logo-small bk-logo-notebook\"></a>\n",
       "        <span id=\"0672dfb7-cc6b-463e-9b50-8efff6259151\">Loading BokehJS ...</span>\n",
       "    </div>"
      ]
     },
     "metadata": {},
     "output_type": "display_data"
    },
    {
     "data": {
      "application/javascript": [
       "\n",
       "(function(global) {\n",
       "  function now() {\n",
       "    return new Date();\n",
       "  }\n",
       "\n",
       "  if (typeof (window._bokeh_onload_callbacks) === \"undefined\") {\n",
       "    window._bokeh_onload_callbacks = [];\n",
       "  }\n",
       "\n",
       "  function run_callbacks() {\n",
       "    window._bokeh_onload_callbacks.forEach(function(callback) { callback() });\n",
       "    delete window._bokeh_onload_callbacks\n",
       "    console.info(\"Bokeh: all callbacks have finished\");\n",
       "  }\n",
       "\n",
       "  function load_libs(js_urls, callback) {\n",
       "    window._bokeh_onload_callbacks.push(callback);\n",
       "    if (window._bokeh_is_loading > 0) {\n",
       "      console.log(\"Bokeh: BokehJS is being loaded, scheduling callback at\", now());\n",
       "      return null;\n",
       "    }\n",
       "    if (js_urls == null || js_urls.length === 0) {\n",
       "      run_callbacks();\n",
       "      return null;\n",
       "    }\n",
       "    console.log(\"Bokeh: BokehJS not loaded, scheduling load and callback at\", now());\n",
       "    window._bokeh_is_loading = js_urls.length;\n",
       "    for (var i = 0; i < js_urls.length; i++) {\n",
       "      var url = js_urls[i];\n",
       "      var s = document.createElement('script');\n",
       "      s.src = url;\n",
       "      s.async = false;\n",
       "      s.onreadystatechange = s.onload = function() {\n",
       "        window._bokeh_is_loading--;\n",
       "        if (window._bokeh_is_loading === 0) {\n",
       "          console.log(\"Bokeh: all BokehJS libraries loaded\");\n",
       "          run_callbacks()\n",
       "        }\n",
       "      };\n",
       "      s.onerror = function() {\n",
       "        console.warn(\"failed to load library \" + url);\n",
       "      };\n",
       "      console.log(\"Bokeh: injecting script tag for BokehJS library: \", url);\n",
       "      document.getElementsByTagName(\"head\")[0].appendChild(s);\n",
       "    }\n",
       "  };\n",
       "\n",
       "  var js_urls = ['https://cdn.pydata.org/bokeh/release/bokeh-0.11.1.min.js', 'https://cdn.pydata.org/bokeh/release/bokeh-widgets-0.11.1.min.js', 'https://cdn.pydata.org/bokeh/release/bokeh-compiler-0.11.1.min.js'];\n",
       "\n",
       "  var inline_js = [\n",
       "    function(Bokeh) {\n",
       "      Bokeh.set_log_level(\"info\");\n",
       "    },\n",
       "    \n",
       "    function(Bokeh) {\n",
       "      Bokeh.$(\"#0672dfb7-cc6b-463e-9b50-8efff6259151\").text(\"BokehJS successfully loaded\");\n",
       "    },\n",
       "    function(Bokeh) {\n",
       "      console.log(\"Bokeh: injecting CSS: https://cdn.pydata.org/bokeh/release/bokeh-0.11.1.min.css\");\n",
       "      Bokeh.embed.inject_css(\"https://cdn.pydata.org/bokeh/release/bokeh-0.11.1.min.css\");\n",
       "      console.log(\"Bokeh: injecting CSS: https://cdn.pydata.org/bokeh/release/bokeh-widgets-0.11.1.min.css\");\n",
       "      Bokeh.embed.inject_css(\"https://cdn.pydata.org/bokeh/release/bokeh-widgets-0.11.1.min.css\");\n",
       "    }\n",
       "  ];\n",
       "\n",
       "  function run_inline_js() {\n",
       "    for (var i = 0; i < inline_js.length; i++) {\n",
       "      inline_js[i](window.Bokeh);\n",
       "    }\n",
       "  }\n",
       "\n",
       "  if (window._bokeh_is_loading === 0) {\n",
       "    console.log(\"Bokeh: BokehJS loaded, going straight to plotting\");\n",
       "    run_inline_js();\n",
       "  } else {\n",
       "    load_libs(js_urls, function() {\n",
       "      console.log(\"Bokeh: BokehJS plotting callback run at\", now());\n",
       "      run_inline_js();\n",
       "    });\n",
       "  }\n",
       "}(this));"
      ]
     },
     "metadata": {},
     "output_type": "display_data"
    }
   ],
   "source": [
    "from bokeh.models import ColumnDataSource\n",
    "from bokeh.models.widgets import DataTable, DateFormatter, TableColumn\n",
    "from bokeh.io import output_notebook, show, vform\n",
    "output_notebook()"
   ]
  },
  {
   "cell_type": "code",
   "execution_count": 5,
   "metadata": {
    "collapsed": false
   },
   "outputs": [],
   "source": [
    "pd.options.display.float_format = '{:.3f}'.format\n",
    "float_formatter = lambda x: \"%.3f\" % x\n",
    "#np.set_printoptions(formatter={'float_kind':float_formatter})"
   ]
  },
  {
   "cell_type": "markdown",
   "metadata": {},
   "source": [
    "### Notes\n",
    "\n",
    "* [relative delta](http://dateutil.readthedocs.org/en/latest/index.html) in the dateutil package is awesome\n",
    "* [COT](https://www.quandl.com/data/CFTC?keyword=) is updated on tuesdays\n",
    "* [EIA](http://www.eia.gov/opendata/) API documentation and links\n",
    "* [Requests](http://docs.python-requests.org/en/master/) HTTP for Python\n",
    "* [EIA data with python](https://quantcorner.wordpress.com/2014/11/18/downloading-eias-data-with-python/)\n",
    "* [tweepy](http://docs.tweepy.org/en/v3.5.0/index.html) documentation\n",
    "    * [twitter example 1](http://nbviewer.jupyter.org/github/pybokeh/jupyter_notebooks/blob/master/word_cloud/Mining_Twitter_Example.ipynb)\n",
    "    * [twitter example 2](https://gist.github.com/arulrajnet/0b71842b573d81c7bc23)\n",
    "    * also search github git for examples and saved a notbook in my python folder"
   ]
  },
  {
   "cell_type": "markdown",
   "metadata": {},
   "source": [
    "### Improvements\n",
    "\n",
    "* store the commodityMonths dict somewhere I can just load it for regular use\n",
    "* should pull more data with NG prices query and make a chart or graph form it. The NG query is set up to do convergence, but that requires ICE data and I cant automate with that so make something to replace.\n",
    "* be able to do multiple weeks for 'this week in H' table"
   ]
  },
  {
   "cell_type": "markdown",
   "metadata": {},
   "source": [
    "### Set Up variables "
   ]
  },
  {
   "cell_type": "code",
   "execution_count": 6,
   "metadata": {
    "collapsed": false
   },
   "outputs": [],
   "source": [
    "#from datetime get today's date\n",
    "today = dt.date.today()\n",
    "\n",
    "#today string for display\n",
    "today_str = today.strftime(\"%m/%d/%Y\")\n",
    "\n",
    "#sixty days ago for COT data\n",
    "sixty = today + relativedelta(months=-2)\n",
    "\n",
    "#six years ago for benchmarking EIA data\n",
    "sixyears = today + relativedelta(years=-6)"
   ]
  },
  {
   "cell_type": "code",
   "execution_count": 7,
   "metadata": {
    "collapsed": false
   },
   "outputs": [],
   "source": [
    "#last fri for NG price call from quandl\n",
    "lastFriday = today + relativedelta(weekday=FR(-1))\n",
    "\n",
    "#last mon for NG price call from quandl\n",
    "lastMonday = today + relativedelta(weekday=MO(-2))\n",
    "\n",
    "#picking months from last wed instead of mon prevents picking weeks with zero prompt month prices\n",
    "#this could be more thought out, or it'd be nice to have a multi year bidweek calendar\n",
    "lastWednesday = today + relativedelta(weekday=WE(-1))"
   ]
  },
  {
   "cell_type": "code",
   "execution_count": 8,
   "metadata": {
    "collapsed": false
   },
   "outputs": [],
   "source": [
    "#dict of commodity months\n",
    "commodityMonths = {'January':'F','February':'G','March':'H','April':'J','May':'K','June':'M',\n",
    "'July':'N','August':'Q','September':'U','October':'V','November':'X','  December':'Z'}"
   ]
  },
  {
   "cell_type": "code",
   "execution_count": 9,
   "metadata": {
    "collapsed": false
   },
   "outputs": [],
   "source": [
    "#prompt month is the next month, str version used for labeling columns\n",
    "prompt = lastWednesday + relativedelta(months=+1)\n",
    "promptStr = calendar.month_name[prompt.month]\n",
    "\n",
    "#prompt +1 second delivery month\n",
    "second = lastWednesday + relativedelta(months=+2)\n",
    "secondStr = calendar.month_name[second.month]\n",
    "\n",
    "#prompt +3 third delivery month\n",
    "third = lastWednesday + relativedelta(months=+3)\n",
    "thirdStr = calendar.month_name[third.month]"
   ]
  },
  {
   "cell_type": "code",
   "execution_count": 10,
   "metadata": {
    "collapsed": false
   },
   "outputs": [],
   "source": [
    "#used to authomate symbols in quandl query\n",
    "promptYear = prompt.year\n",
    "secondYear = second.year\n",
    "thirdYear = third.year"
   ]
  },
  {
   "cell_type": "code",
   "execution_count": 11,
   "metadata": {
    "collapsed": false
   },
   "outputs": [],
   "source": [
    "#used to automate symbols in quandl query\n",
    "promptC = commodityMonths[promptStr]\n",
    "secondC = commodityMonths[secondStr]\n",
    "thirdC = commodityMonths[thirdStr]"
   ]
  },
  {
   "cell_type": "code",
   "execution_count": 12,
   "metadata": {
    "collapsed": false
   },
   "outputs": [],
   "source": [
    "# vars for getting price data\n",
    "#begin and end date of data\n",
    "bw = lastMonday.strftime(\"%m/%d/%Y\")\n",
    "ew = lastFriday.strftime(\"%m/%d/%Y\")\n",
    "\n",
    "#symbols change month letter and year when necessary\n",
    "first = \"CME/NG\"+promptC+str(promptYear)+\".6\"\n",
    "second = \"CME/NG\"+secondC+str(secondYear)+\".6\"\n",
    "third = \"CME/NG\"+thirdC+str(thirdYear)+\".6\"\n",
    "\n",
    "#rename change month name when necessary\n",
    "firstn = \"NG \" + promptStr\n",
    "secondn = \"NG\" + secondStr\n",
    "thirdn = \"NG\" + thirdStr\n",
    "\n",
    "#vars for getting OI data\n",
    "sixty = sixty.strftime(\"%m/%d/%Y\")"
   ]
  },
  {
   "cell_type": "markdown",
   "metadata": {},
   "source": [
    "### Get data from quandl"
   ]
  },
  {
   "cell_type": "code",
   "execution_count": 13,
   "metadata": {
    "collapsed": false
   },
   "outputs": [],
   "source": [
    "#the .6 after the contract name gives specific column\n",
    "NG = Quandl.get([first,second,third], authtoken=\"UDaCz3fqxxJUAL3-WWmD\", trim_start=bw, trim_end=ew, returns=\"pandas\")"
   ]
  },
  {
   "cell_type": "code",
   "execution_count": 14,
   "metadata": {
    "collapsed": true
   },
   "outputs": [],
   "source": [
    "#leave out trim end defaults to most recent\n",
    "COT = Quandl.get(\"CFTC/H_FO_ALL\", authtoken=\"UDaCz3fqxxJUAL3-WWmD\",trim_start=sixty, returns=\"pandas\")"
   ]
  },
  {
   "cell_type": "markdown",
   "metadata": {},
   "source": [
    "### H this week"
   ]
  },
  {
   "cell_type": "code",
   "execution_count": 15,
   "metadata": {
    "collapsed": true
   },
   "outputs": [],
   "source": [
    "#cull the columns\n",
    "NG.columns = [firstn,secondn,thirdn]\n",
    "OI = COT[['Open Interest']]"
   ]
  },
  {
   "cell_type": "code",
   "execution_count": 16,
   "metadata": {
    "collapsed": false
   },
   "outputs": [],
   "source": [
    "#calc max price last week\n",
    "HMax = float_formatter(NG[firstn].max())\n",
    "\n",
    "#return date of start of week\n",
    "Start = NG.index[0].strftime(\"%m/%d/%Y\")"
   ]
  },
  {
   "cell_type": "code",
   "execution_count": 17,
   "metadata": {
    "collapsed": false,
    "scrolled": true
   },
   "outputs": [],
   "source": [
    "#return price of first day of week, but not if its nan\n",
    "NGFirst = NG[np.isfinite(NG[firstn])]\n",
    "NGFirst = NGFirst[[firstn]]"
   ]
  },
  {
   "cell_type": "code",
   "execution_count": 18,
   "metadata": {
    "collapsed": false
   },
   "outputs": [],
   "source": [
    "#calc percent change from first to last, also using shortened NGFirst from above\n",
    "NGchng = NGFirst[firstn].pct_change(periods=len(NGFirst.index)-1)"
   ]
  },
  {
   "cell_type": "code",
   "execution_count": 19,
   "metadata": {
    "collapsed": false
   },
   "outputs": [],
   "source": [
    "#return OI of last entry in COT data (most recent date)\n",
    "OIlast = OI.ix[-1]"
   ]
  },
  {
   "cell_type": "code",
   "execution_count": 20,
   "metadata": {
    "collapsed": false
   },
   "outputs": [],
   "source": [
    "#calc percent change in OI from this week to last week\n",
    "OIchng = OI['Open Interest'].pct_change(periods=1)"
   ]
  },
  {
   "cell_type": "code",
   "execution_count": 21,
   "metadata": {
    "collapsed": false
   },
   "outputs": [],
   "source": [
    "#reformat everything and define dict for display\n",
    "Week1 = dict(\n",
    "    Start = [Start],\n",
    "    Contract = [firstn],\n",
    "    Open = [float_formatter(NGFirst.ix[0])],\n",
    "    High = [float_formatter(NGFirst.max())],\n",
    "    Low = [float_formatter(NGFirst.min())],\n",
    "    Close = [float_formatter(NGFirst.ix[-1])],\n",
    "    changePrice = [\"{:.2%}\".format(NGchng.ix[len(NGchng.index)-1])],\n",
    "    changeOI  = [\"{:.2%}\".format(OIchng.ix[len(OIchng.index)-1])],\n",
    "    OI  = [\"{:,}\".format(OIlast[0].astype(int))],\n",
    "    )\n",
    "    "
   ]
  },
  {
   "cell_type": "code",
   "execution_count": 22,
   "metadata": {
    "collapsed": false
   },
   "outputs": [
    {
     "data": {
      "text/html": [
       "\n",
       "\n",
       "    <div class=\"plotdiv\" id=\"33eb10bf-c39f-4d9f-9f49-814c57429bbb\"></div>\n",
       "<script type=\"text/javascript\">\n",
       "  \n",
       "  (function(global) {\n",
       "    function now() {\n",
       "      return new Date();\n",
       "    }\n",
       "  \n",
       "    if (typeof (window._bokeh_onload_callbacks) === \"undefined\") {\n",
       "      window._bokeh_onload_callbacks = [];\n",
       "    }\n",
       "  \n",
       "    function run_callbacks() {\n",
       "      window._bokeh_onload_callbacks.forEach(function(callback) { callback() });\n",
       "      delete window._bokeh_onload_callbacks\n",
       "      console.info(\"Bokeh: all callbacks have finished\");\n",
       "    }\n",
       "  \n",
       "    function load_libs(js_urls, callback) {\n",
       "      window._bokeh_onload_callbacks.push(callback);\n",
       "      if (window._bokeh_is_loading > 0) {\n",
       "        console.log(\"Bokeh: BokehJS is being loaded, scheduling callback at\", now());\n",
       "        return null;\n",
       "      }\n",
       "      if (js_urls == null || js_urls.length === 0) {\n",
       "        run_callbacks();\n",
       "        return null;\n",
       "      }\n",
       "      console.log(\"Bokeh: BokehJS not loaded, scheduling load and callback at\", now());\n",
       "      window._bokeh_is_loading = js_urls.length;\n",
       "      for (var i = 0; i < js_urls.length; i++) {\n",
       "        var url = js_urls[i];\n",
       "        var s = document.createElement('script');\n",
       "        s.src = url;\n",
       "        s.async = false;\n",
       "        s.onreadystatechange = s.onload = function() {\n",
       "          window._bokeh_is_loading--;\n",
       "          if (window._bokeh_is_loading === 0) {\n",
       "            console.log(\"Bokeh: all BokehJS libraries loaded\");\n",
       "            run_callbacks()\n",
       "          }\n",
       "        };\n",
       "        s.onerror = function() {\n",
       "          console.warn(\"failed to load library \" + url);\n",
       "        };\n",
       "        console.log(\"Bokeh: injecting script tag for BokehJS library: \", url);\n",
       "        document.getElementsByTagName(\"head\")[0].appendChild(s);\n",
       "      }\n",
       "    };var element = document.getElementById(\"33eb10bf-c39f-4d9f-9f49-814c57429bbb\");\n",
       "    if (element == null) {\n",
       "      console.log(\"Bokeh: ERROR: autoload.js configured with elementid '33eb10bf-c39f-4d9f-9f49-814c57429bbb' but no matching script tag was found. \")\n",
       "      return false;\n",
       "    }\n",
       "  \n",
       "    var js_urls = [];\n",
       "  \n",
       "    var inline_js = [\n",
       "      function(Bokeh) {\n",
       "        Bokeh.$(function() {\n",
       "            var docs_json = {\"2c1b2a79-6d9b-4f73-be07-5d038c81e6ea\":{\"roots\":{\"references\":[{\"attributes\":{\"callback\":null,\"column_names\":[\"Open\",\"changePrice\",\"Contract\",\"Close\",\"changeOI\",\"Low\",\"OI\",\"Start\",\"High\"],\"data\":{\"Close\":[\"1.666\"],\"Contract\":[\"NG April\"],\"High\":[\"1.742\"],\"Low\":[\"1.639\"],\"OI\":[\"4,213,419\"],\"Open\":[\"1.711\"],\"Start\":[\"02/29/2016\"],\"changeOI\":[\"-4.44%\"],\"changePrice\":[\"-2.63%\"]}},\"id\":\"21d73649-4088-41b0-8594-f24868342ab2\",\"type\":\"ColumnDataSource\"},{\"attributes\":{\"editor\":{\"id\":\"f6968988-04d4-4695-b4e7-959660ec0df5\",\"type\":\"StringEditor\"},\"field\":\"Close\",\"formatter\":{\"id\":\"7ee8270e-6bb2-449b-98e8-35c8df794498\",\"type\":\"StringFormatter\"},\"title\":\"Close\"},\"id\":\"8c7e097b-5ceb-448c-833d-8e5907c04bbf\",\"type\":\"TableColumn\"},{\"attributes\":{},\"id\":\"aecd349c-2b66-454a-9ccf-04fa5911a7c9\",\"type\":\"StringFormatter\"},{\"attributes\":{},\"id\":\"4bfb142a-ac2f-4ad4-8ef0-ad7fa679d591\",\"type\":\"StringFormatter\"},{\"attributes\":{},\"id\":\"68cb17b5-5f2a-445d-8bd3-bd9c7e46b9ce\",\"type\":\"StringEditor\"},{\"attributes\":{\"editor\":{\"id\":\"68cb17b5-5f2a-445d-8bd3-bd9c7e46b9ce\",\"type\":\"StringEditor\"},\"field\":\"changePrice\",\"formatter\":{\"id\":\"4bfb142a-ac2f-4ad4-8ef0-ad7fa679d591\",\"type\":\"StringFormatter\"},\"title\":\"%change Price\"},\"id\":\"9c201400-25d0-46d4-9154-039dbd9a275d\",\"type\":\"TableColumn\"},{\"attributes\":{},\"id\":\"0c68347f-1abf-47c6-a761-6278fd350255\",\"type\":\"StringEditor\"},{\"attributes\":{\"editor\":{\"id\":\"6afbdc36-bce7-476d-bc43-44db43c29759\",\"type\":\"StringEditor\"},\"field\":\"Contract\",\"formatter\":{\"id\":\"41eb4cd5-9139-4b10-bfcc-052bf45d6883\",\"type\":\"StringFormatter\"},\"title\":\"Contract\"},\"id\":\"4ec83916-0b63-40b0-b15f-67fe14537997\",\"type\":\"TableColumn\"},{\"attributes\":{},\"id\":\"058e2276-5cdb-42ba-80cf-9490aae14f05\",\"type\":\"StringEditor\"},{\"attributes\":{},\"id\":\"bce3b0e4-d2aa-4cea-b139-27e52bc7f774\",\"type\":\"StringEditor\"},{\"attributes\":{},\"id\":\"7ee8270e-6bb2-449b-98e8-35c8df794498\",\"type\":\"StringFormatter\"},{\"attributes\":{\"editor\":{\"id\":\"6b136b0e-b467-4612-b65b-02fdfcfabbb9\",\"type\":\"StringEditor\"},\"field\":\"High\",\"formatter\":{\"id\":\"73362bd2-4911-40cb-a1b8-208f7ef3786a\",\"type\":\"StringFormatter\"},\"title\":\"High\"},\"id\":\"acb389bb-205a-4650-890f-6ee22cfeca7a\",\"type\":\"TableColumn\"},{\"attributes\":{\"columns\":[{\"id\":\"04bac8a7-1c16-441b-af21-677c5880844e\",\"type\":\"TableColumn\"},{\"id\":\"4ec83916-0b63-40b0-b15f-67fe14537997\",\"type\":\"TableColumn\"},{\"id\":\"f6191713-4c22-4708-a41c-1adddb210846\",\"type\":\"TableColumn\"},{\"id\":\"acb389bb-205a-4650-890f-6ee22cfeca7a\",\"type\":\"TableColumn\"},{\"id\":\"5631a54a-f7ac-4586-ba4c-c0d5012c053e\",\"type\":\"TableColumn\"},{\"id\":\"8c7e097b-5ceb-448c-833d-8e5907c04bbf\",\"type\":\"TableColumn\"},{\"id\":\"9c201400-25d0-46d4-9154-039dbd9a275d\",\"type\":\"TableColumn\"},{\"id\":\"7f22d439-9bfb-42f5-a95c-c023ad0b9631\",\"type\":\"TableColumn\"},{\"id\":\"34fc9947-f8f9-4f37-b3e0-bb82645ac0d2\",\"type\":\"TableColumn\"}],\"height\":75,\"source\":{\"id\":\"21d73649-4088-41b0-8594-f24868342ab2\",\"type\":\"ColumnDataSource\"},\"width\":850},\"id\":\"db5ce233-9c6c-49e9-b196-6b4a6e2a1bfc\",\"type\":\"DataTable\"},{\"attributes\":{},\"id\":\"10eb1f87-85f4-4b86-97f1-9758e623f1aa\",\"type\":\"StringFormatter\"},{\"attributes\":{\"editor\":{\"id\":\"0c68347f-1abf-47c6-a761-6278fd350255\",\"type\":\"StringEditor\"},\"field\":\"Low\",\"formatter\":{\"id\":\"6677c105-e4d8-488c-9d71-c491ec757240\",\"type\":\"StringFormatter\"},\"title\":\"Low\"},\"id\":\"5631a54a-f7ac-4586-ba4c-c0d5012c053e\",\"type\":\"TableColumn\"},{\"attributes\":{},\"id\":\"5911735e-4e39-43a5-b015-648f8a504034\",\"type\":\"StringEditor\"},{\"attributes\":{},\"id\":\"6afbdc36-bce7-476d-bc43-44db43c29759\",\"type\":\"StringEditor\"},{\"attributes\":{},\"id\":\"6677c105-e4d8-488c-9d71-c491ec757240\",\"type\":\"StringFormatter\"},{\"attributes\":{},\"id\":\"f6968988-04d4-4695-b4e7-959660ec0df5\",\"type\":\"StringEditor\"},{\"attributes\":{},\"id\":\"0d3dd7c7-5ce2-4f82-a22a-aed83aa6376c\",\"type\":\"StringFormatter\"},{\"attributes\":{\"editor\":{\"id\":\"4428389c-8dab-4d86-acdf-c0ea6ebbaa3e\",\"type\":\"StringEditor\"},\"field\":\"changeOI\",\"formatter\":{\"id\":\"aecd349c-2b66-454a-9ccf-04fa5911a7c9\",\"type\":\"StringFormatter\"},\"title\":\"%change OI\"},\"id\":\"34fc9947-f8f9-4f37-b3e0-bb82645ac0d2\",\"type\":\"TableColumn\"},{\"attributes\":{},\"id\":\"4428389c-8dab-4d86-acdf-c0ea6ebbaa3e\",\"type\":\"StringEditor\"},{\"attributes\":{},\"id\":\"3fab2d79-611f-4e7a-9f7c-86574554d770\",\"type\":\"StringFormatter\"},{\"attributes\":{\"editor\":{\"id\":\"bce3b0e4-d2aa-4cea-b139-27e52bc7f774\",\"type\":\"StringEditor\"},\"field\":\"Open\",\"formatter\":{\"id\":\"10eb1f87-85f4-4b86-97f1-9758e623f1aa\",\"type\":\"StringFormatter\"},\"title\":\"Open\"},\"id\":\"f6191713-4c22-4708-a41c-1adddb210846\",\"type\":\"TableColumn\"},{\"attributes\":{\"editor\":{\"id\":\"058e2276-5cdb-42ba-80cf-9490aae14f05\",\"type\":\"StringEditor\"},\"field\":\"Start\",\"formatter\":{\"id\":\"3fab2d79-611f-4e7a-9f7c-86574554d770\",\"type\":\"StringFormatter\"},\"title\":\"Start\"},\"id\":\"04bac8a7-1c16-441b-af21-677c5880844e\",\"type\":\"TableColumn\"},{\"attributes\":{\"editor\":{\"id\":\"5911735e-4e39-43a5-b015-648f8a504034\",\"type\":\"StringEditor\"},\"field\":\"OI\",\"formatter\":{\"id\":\"0d3dd7c7-5ce2-4f82-a22a-aed83aa6376c\",\"type\":\"StringFormatter\"},\"title\":\"OI\"},\"id\":\"7f22d439-9bfb-42f5-a95c-c023ad0b9631\",\"type\":\"TableColumn\"},{\"attributes\":{},\"id\":\"41eb4cd5-9139-4b10-bfcc-052bf45d6883\",\"type\":\"StringFormatter\"},{\"attributes\":{},\"id\":\"73362bd2-4911-40cb-a1b8-208f7ef3786a\",\"type\":\"StringFormatter\"},{\"attributes\":{\"children\":[{\"id\":\"db5ce233-9c6c-49e9-b196-6b4a6e2a1bfc\",\"type\":\"DataTable\"}]},\"id\":\"bd5b95ea-d6b4-4d7b-9149-e1ae331f0353\",\"type\":\"VBoxForm\"},{\"attributes\":{},\"id\":\"6b136b0e-b467-4612-b65b-02fdfcfabbb9\",\"type\":\"StringEditor\"}],\"root_ids\":[\"bd5b95ea-d6b4-4d7b-9149-e1ae331f0353\"]},\"title\":\"Bokeh Application\",\"version\":\"0.11.1\"}};\n",
       "            var render_items = [{\"docid\":\"2c1b2a79-6d9b-4f73-be07-5d038c81e6ea\",\"elementid\":\"33eb10bf-c39f-4d9f-9f49-814c57429bbb\",\"modelid\":\"bd5b95ea-d6b4-4d7b-9149-e1ae331f0353\",\"notebook_comms_target\":\"490c2ca1-bdf5-4875-8563-c775ff862c44\"}];\n",
       "            \n",
       "            Bokeh.embed.embed_items(docs_json, render_items);\n",
       "        });\n",
       "      },\n",
       "      function(Bokeh) {\n",
       "      }\n",
       "    ];\n",
       "  \n",
       "    function run_inline_js() {\n",
       "      for (var i = 0; i < inline_js.length; i++) {\n",
       "        inline_js[i](window.Bokeh);\n",
       "      }\n",
       "    }\n",
       "  \n",
       "    if (window._bokeh_is_loading === 0) {\n",
       "      console.log(\"Bokeh: BokehJS loaded, going straight to plotting\");\n",
       "      run_inline_js();\n",
       "    } else {\n",
       "      load_libs(js_urls, function() {\n",
       "        console.log(\"Bokeh: BokehJS plotting callback run at\", now());\n",
       "        run_inline_js();\n",
       "      });\n",
       "    }\n",
       "  }(this));\n",
       "</script>"
      ]
     },
     "metadata": {},
     "output_type": "display_data"
    },
    {
     "data": {
      "text/html": [
       "<p><code>&lt;Bokeh Notebook handle for <strong>In[22]</strong>&gt;</code></p>"
      ],
      "text/plain": [
       "<bokeh.io._CommsHandle at 0x5b648d0>"
      ]
     },
     "execution_count": 22,
     "metadata": {},
     "output_type": "execute_result"
    }
   ],
   "source": [
    "#bokeh to output nice looking table\n",
    "source = ColumnDataSource(Week1)\n",
    "\n",
    "columns = [\n",
    "        TableColumn(field=\"Start\", title=\"Start\"),\n",
    "        TableColumn(field=\"Contract\", title=\"Contract\"),\n",
    "        TableColumn(field=\"Open\", title=\"Open\"),\n",
    "        TableColumn(field=\"High\", title=\"High\"),\n",
    "        TableColumn(field=\"Low\", title=\"Low\"),\n",
    "        TableColumn(field=\"Close\", title=\"Close\"),\n",
    "        TableColumn(field=\"changePrice\", title=\"%change Price\"),\n",
    "        TableColumn(field=\"OI\", title=\"OI\"),\n",
    "        TableColumn(field=\"changeOI\", title=\"%change OI\"),\n",
    "    ]\n",
    "\n",
    "data_table = DataTable(source=source, columns=columns, width=850, height=75)\n",
    "\n",
    "show(vform(data_table))"
   ]
  },
  {
   "cell_type": "markdown",
   "metadata": {},
   "source": [
    "### Storage Report"
   ]
  },
  {
   "cell_type": "code",
   "execution_count": 68,
   "metadata": {
    "collapsed": true
   },
   "outputs": [],
   "source": [
    "#api url for series name Weekly Lower 48 States Natural Gas Working Underground Storage, Weekly\n",
    "storageURL = 'http://api.eia.gov/series/?api_key=B617CC071819064DEFFF9ED570FDB75A&series_id=NG.NW2_EPG0_SWO_R48_BCF.W&out=JSON'"
   ]
  },
  {
   "cell_type": "code",
   "execution_count": 69,
   "metadata": {
    "collapsed": false
   },
   "outputs": [],
   "source": [
    "#get requests data from specificied url\n",
    "storage = requests.get(storageURL)"
   ]
  },
  {
   "cell_type": "code",
   "execution_count": 70,
   "metadata": {
    "collapsed": false
   },
   "outputs": [],
   "source": [
    "#the request was for json formatting so uses requests' JSON decoder\n",
    "storage_json = storage.json()\n",
    "\n",
    "#storage_json is a nested dict, so take a look at it and find my way into the sub-dict with the data\n",
    "date_series = storage_json['series'][0]['data']"
   ]
  },
  {
   "cell_type": "code",
   "execution_count": 71,
   "metadata": {
    "collapsed": false
   },
   "outputs": [],
   "source": [
    "#loop through that date_series dict and make and array out of the date entries\n",
    "endi = len(date_series)\n",
    "date = []\n",
    "\n",
    "for i in range(endi):\n",
    "    date.append(date_series[i][0])"
   ]
  },
  {
   "cell_type": "code",
   "execution_count": 72,
   "metadata": {
    "collapsed": false
   },
   "outputs": [],
   "source": [
    "#convert that bad boy to a data frame\n",
    "df = pd.DataFrame(data=date)\n",
    "df.columns = ['Date']"
   ]
  },
  {
   "cell_type": "code",
   "execution_count": 73,
   "metadata": {
    "collapsed": false
   },
   "outputs": [],
   "source": [
    "#loop through the rest of the dict with and put the data in\n",
    "lenj = len(storage_json)-1\n",
    "\n",
    "for j in range (lenj):\n",
    "    data_series = storage_json['series'][0]['data']\n",
    "    data = []\n",
    "    endk = len(date_series) \n",
    "    for k in range (endk):\n",
    "        data.append(data_series[k][1])\n",
    "    df[j] = data"
   ]
  },
  {
   "cell_type": "code",
   "execution_count": 74,
   "metadata": {
    "collapsed": false,
    "scrolled": true
   },
   "outputs": [],
   "source": [
    "#rename columns\n",
    "df.columns = ['date','storageUS']\n",
    "\n",
    "#substring date to use for making a python datevariable, the infer datetime thing didnt work \n",
    "df['year'] = df['date'].apply(lambda t: t[0:4])\n",
    "df['year'] = df['year'].astype(int)\n",
    "\n",
    "df['month'] = df['date'].apply(lambda t: t[4:6])\n",
    "df['month'] = df['month'].astype(int)\n",
    "\n",
    "df['day'] = df['date'].apply(lambda t: t[-2:])\n",
    "df['day'] = df['day'].astype(int)"
   ]
  },
  {
   "cell_type": "code",
   "execution_count": 75,
   "metadata": {
    "collapsed": false
   },
   "outputs": [],
   "source": [
    "#date formatted as datetime\n",
    "df['date_f'] = pd.to_datetime(df.year*10000 + df.month*100 + df.day, format='%Y%m%d')"
   ]
  },
  {
   "cell_type": "code",
   "execution_count": 76,
   "metadata": {
    "collapsed": false
   },
   "outputs": [],
   "source": [
    "#week of year to make y-y comparisons\n",
    "df['week'] = df['date_f'].dt.week"
   ]
  },
  {
   "cell_type": "code",
   "execution_count": 77,
   "metadata": {
    "collapsed": false
   },
   "outputs": [],
   "source": [
    "#move the index to date time\n",
    "df.set_index(['date_f'], inplace = True)\n",
    "#sort by datetime acending, bc the data comes in most rescent first\n",
    "df = df.sort_index()\n",
    "#calc weekly storage change\n",
    "df['lastWeek'] = df['storageUS'].shift()\n",
    "df['change'] = df['storageUS'] - df['lastWeek']"
   ]
  },
  {
   "cell_type": "code",
   "execution_count": 78,
   "metadata": {
    "collapsed": true
   },
   "outputs": [],
   "source": [
    "#make it so the index label doesnt appear, just looks prettier\n",
    "df.index.name = None"
   ]
  },
  {
   "cell_type": "code",
   "execution_count": 79,
   "metadata": {
    "collapsed": false,
    "scrolled": false
   },
   "outputs": [],
   "source": [
    "#subset the data so for most recent six years\n",
    "#six because my code to calc 5 year average takes in current week, will use shift and rolling avg to get 5year\n",
    "df = df[pd.to_datetime(df.year*10000 + df.month*100 + df.day, format='%Y%m%d')>= sixyears]"
   ]
  },
  {
   "cell_type": "code",
   "execution_count": 93,
   "metadata": {
    "collapsed": false
   },
   "outputs": [],
   "source": [
    "#rolling average storage volume grouped by week\n",
    "df['avgChange'] = df.groupby('week')['change'].apply(pd.rolling_mean,len(df),min_periods=1)\n",
    "df['avgStorageUS'] = df.groupby('week')['storageUS'].apply(pd.rolling_mean,len(df),min_periods=1)\n"
   ]
  },
  {
   "cell_type": "code",
   "execution_count": 124,
   "metadata": {
    "collapsed": false
   },
   "outputs": [],
   "source": [
    "# calc non inclusive five year, sort by week then by date then create var based on shifted avgstorage us\n",
    "#sort by index back to normal\n",
    "df = df.sort_values(['week','date'],ascending=[1,1])\n",
    "df['storage_5yr'] = df['avgStorageUS'].shift()\n",
    "df = df.sort_index()"
   ]
  },
  {
   "cell_type": "code",
   "execution_count": 131,
   "metadata": {
    "collapsed": true
   },
   "outputs": [],
   "source": [
    "#cal percent diff from 5 year average\n",
    "df['percentDiff'] = (df['storageUS'] - df['storage_5yr'])/df['storage_5yr']"
   ]
  },
  {
   "cell_type": "code",
   "execution_count": null,
   "metadata": {
    "collapsed": true
   },
   "outputs": [],
   "source": []
  },
  {
   "cell_type": "code",
   "execution_count": null,
   "metadata": {
    "collapsed": true
   },
   "outputs": [],
   "source": []
  },
  {
   "cell_type": "code",
   "execution_count": 132,
   "metadata": {
    "collapsed": false,
    "scrolled": false
   },
   "outputs": [
    {
     "data": {
      "text/html": [
       "<div>\n",
       "<table border=\"1\" class=\"dataframe\">\n",
       "  <thead>\n",
       "    <tr style=\"text-align: right;\">\n",
       "      <th></th>\n",
       "      <th>date</th>\n",
       "      <th>storageUS</th>\n",
       "      <th>year</th>\n",
       "      <th>month</th>\n",
       "      <th>day</th>\n",
       "      <th>week</th>\n",
       "      <th>lastWeek</th>\n",
       "      <th>change</th>\n",
       "      <th>avgChange</th>\n",
       "      <th>avgStorageUS</th>\n",
       "      <th>storage_5yr</th>\n",
       "      <th>percentDiff</th>\n",
       "    </tr>\n",
       "  </thead>\n",
       "  <tbody>\n",
       "    <tr>\n",
       "      <th>2016-01-29</th>\n",
       "      <td>20160129</td>\n",
       "      <td>2934</td>\n",
       "      <td>2016</td>\n",
       "      <td>1</td>\n",
       "      <td>29</td>\n",
       "      <td>4</td>\n",
       "      <td>3086.000</td>\n",
       "      <td>-152.000</td>\n",
       "      <td>-166.667</td>\n",
       "      <td>2630.667</td>\n",
       "      <td>2570.000</td>\n",
       "      <td>0.142</td>\n",
       "    </tr>\n",
       "    <tr>\n",
       "      <th>2016-02-05</th>\n",
       "      <td>20160205</td>\n",
       "      <td>2864</td>\n",
       "      <td>2016</td>\n",
       "      <td>2</td>\n",
       "      <td>5</td>\n",
       "      <td>5</td>\n",
       "      <td>2934.000</td>\n",
       "      <td>-70.000</td>\n",
       "      <td>-142.000</td>\n",
       "      <td>2488.667</td>\n",
       "      <td>2413.600</td>\n",
       "      <td>0.187</td>\n",
       "    </tr>\n",
       "    <tr>\n",
       "      <th>2016-02-12</th>\n",
       "      <td>20160212</td>\n",
       "      <td>2701</td>\n",
       "      <td>2016</td>\n",
       "      <td>2</td>\n",
       "      <td>12</td>\n",
       "      <td>6</td>\n",
       "      <td>2864.000</td>\n",
       "      <td>-163.000</td>\n",
       "      <td>-178.833</td>\n",
       "      <td>2309.833</td>\n",
       "      <td>2231.600</td>\n",
       "      <td>0.210</td>\n",
       "    </tr>\n",
       "    <tr>\n",
       "      <th>2016-02-19</th>\n",
       "      <td>20160219</td>\n",
       "      <td>2584</td>\n",
       "      <td>2016</td>\n",
       "      <td>2</td>\n",
       "      <td>19</td>\n",
       "      <td>7</td>\n",
       "      <td>2701.000</td>\n",
       "      <td>-117.000</td>\n",
       "      <td>-141.167</td>\n",
       "      <td>2168.667</td>\n",
       "      <td>2085.600</td>\n",
       "      <td>0.239</td>\n",
       "    </tr>\n",
       "    <tr>\n",
       "      <th>2016-02-26</th>\n",
       "      <td>20160226</td>\n",
       "      <td>2536</td>\n",
       "      <td>2016</td>\n",
       "      <td>2</td>\n",
       "      <td>26</td>\n",
       "      <td>8</td>\n",
       "      <td>2584.000</td>\n",
       "      <td>-48.000</td>\n",
       "      <td>-117.167</td>\n",
       "      <td>2051.500</td>\n",
       "      <td>1954.600</td>\n",
       "      <td>0.297</td>\n",
       "    </tr>\n",
       "  </tbody>\n",
       "</table>\n",
       "</div>"
      ],
      "text/plain": [
       "                date  storageUS  year  month  day  week  lastWeek   change  \\\n",
       "2016-01-29  20160129       2934  2016      1   29     4  3086.000 -152.000   \n",
       "2016-02-05  20160205       2864  2016      2    5     5  2934.000  -70.000   \n",
       "2016-02-12  20160212       2701  2016      2   12     6  2864.000 -163.000   \n",
       "2016-02-19  20160219       2584  2016      2   19     7  2701.000 -117.000   \n",
       "2016-02-26  20160226       2536  2016      2   26     8  2584.000  -48.000   \n",
       "\n",
       "            avgChange  avgStorageUS  storage_5yr  percentDiff  \n",
       "2016-01-29   -166.667      2630.667     2570.000        0.142  \n",
       "2016-02-05   -142.000      2488.667     2413.600        0.187  \n",
       "2016-02-12   -178.833      2309.833     2231.600        0.210  \n",
       "2016-02-19   -141.167      2168.667     2085.600        0.239  \n",
       "2016-02-26   -117.167      2051.500     1954.600        0.297  "
      ]
     },
     "execution_count": 132,
     "metadata": {},
     "output_type": "execute_result"
    }
   ],
   "source": [
    "recent = df.tail()\n",
    "recent"
   ]
  },
  {
   "cell_type": "code",
   "execution_count": 130,
   "metadata": {
    "collapsed": false
   },
   "outputs": [
    {
     "data": {
      "text/html": [
       "<div>\n",
       "<table border=\"1\" class=\"dataframe\">\n",
       "  <thead>\n",
       "    <tr style=\"text-align: right;\">\n",
       "      <th></th>\n",
       "      <th>date</th>\n",
       "      <th>storageUS</th>\n",
       "      <th>year</th>\n",
       "      <th>month</th>\n",
       "      <th>day</th>\n",
       "      <th>week</th>\n",
       "      <th>lastWeek</th>\n",
       "      <th>change</th>\n",
       "      <th>avgChange</th>\n",
       "      <th>avgStorageUS</th>\n",
       "      <th>storage_5yr</th>\n",
       "      <th>percentDiff</th>\n",
       "    </tr>\n",
       "  </thead>\n",
       "  <tbody>\n",
       "    <tr>\n",
       "      <th>2011-02-04</th>\n",
       "      <td>20110204</td>\n",
       "      <td>2144</td>\n",
       "      <td>2011</td>\n",
       "      <td>2</td>\n",
       "      <td>4</td>\n",
       "      <td>5</td>\n",
       "      <td>2355.000</td>\n",
       "      <td>-211.000</td>\n",
       "      <td>-211.000</td>\n",
       "      <td>2144.000</td>\n",
       "      <td>2630.667</td>\n",
       "      <td>-0.227</td>\n",
       "    </tr>\n",
       "    <tr>\n",
       "      <th>2012-02-03</th>\n",
       "      <td>20120203</td>\n",
       "      <td>2888</td>\n",
       "      <td>2012</td>\n",
       "      <td>2</td>\n",
       "      <td>3</td>\n",
       "      <td>5</td>\n",
       "      <td>2966.000</td>\n",
       "      <td>-78.000</td>\n",
       "      <td>-144.500</td>\n",
       "      <td>2516.000</td>\n",
       "      <td>2144.000</td>\n",
       "      <td>0.296</td>\n",
       "    </tr>\n",
       "    <tr>\n",
       "      <th>2013-02-01</th>\n",
       "      <td>20130201</td>\n",
       "      <td>2684</td>\n",
       "      <td>2013</td>\n",
       "      <td>2</td>\n",
       "      <td>1</td>\n",
       "      <td>5</td>\n",
       "      <td>2802.000</td>\n",
       "      <td>-118.000</td>\n",
       "      <td>-135.667</td>\n",
       "      <td>2572.000</td>\n",
       "      <td>2516.000</td>\n",
       "      <td>0.065</td>\n",
       "    </tr>\n",
       "    <tr>\n",
       "      <th>2014-01-31</th>\n",
       "      <td>20140131</td>\n",
       "      <td>1924</td>\n",
       "      <td>2014</td>\n",
       "      <td>1</td>\n",
       "      <td>31</td>\n",
       "      <td>5</td>\n",
       "      <td>2184.000</td>\n",
       "      <td>-260.000</td>\n",
       "      <td>-166.750</td>\n",
       "      <td>2410.000</td>\n",
       "      <td>2572.000</td>\n",
       "      <td>-0.269</td>\n",
       "    </tr>\n",
       "    <tr>\n",
       "      <th>2015-01-30</th>\n",
       "      <td>20150130</td>\n",
       "      <td>2428</td>\n",
       "      <td>2015</td>\n",
       "      <td>1</td>\n",
       "      <td>30</td>\n",
       "      <td>5</td>\n",
       "      <td>2543.000</td>\n",
       "      <td>-115.000</td>\n",
       "      <td>-156.400</td>\n",
       "      <td>2413.600</td>\n",
       "      <td>2410.000</td>\n",
       "      <td>0.007</td>\n",
       "    </tr>\n",
       "    <tr>\n",
       "      <th>2016-02-05</th>\n",
       "      <td>20160205</td>\n",
       "      <td>2864</td>\n",
       "      <td>2016</td>\n",
       "      <td>2</td>\n",
       "      <td>5</td>\n",
       "      <td>5</td>\n",
       "      <td>2934.000</td>\n",
       "      <td>-70.000</td>\n",
       "      <td>-142.000</td>\n",
       "      <td>2488.667</td>\n",
       "      <td>2413.600</td>\n",
       "      <td>0.181</td>\n",
       "    </tr>\n",
       "  </tbody>\n",
       "</table>\n",
       "</div>"
      ],
      "text/plain": [
       "                date  storageUS  year  month  day  week  lastWeek   change  \\\n",
       "2011-02-04  20110204       2144  2011      2    4     5  2355.000 -211.000   \n",
       "2012-02-03  20120203       2888  2012      2    3     5  2966.000  -78.000   \n",
       "2013-02-01  20130201       2684  2013      2    1     5  2802.000 -118.000   \n",
       "2014-01-31  20140131       1924  2014      1   31     5  2184.000 -260.000   \n",
       "2015-01-30  20150130       2428  2015      1   30     5  2543.000 -115.000   \n",
       "2016-02-05  20160205       2864  2016      2    5     5  2934.000  -70.000   \n",
       "\n",
       "            avgChange  avgStorageUS  storage_5yr  percentDiff  \n",
       "2011-02-04   -211.000      2144.000     2630.667       -0.227  \n",
       "2012-02-03   -144.500      2516.000     2144.000        0.296  \n",
       "2013-02-01   -135.667      2572.000     2516.000        0.065  \n",
       "2014-01-31   -166.750      2410.000     2572.000       -0.269  \n",
       "2015-01-30   -156.400      2413.600     2410.000        0.007  \n",
       "2016-02-05   -142.000      2488.667     2413.600        0.181  "
      ]
     },
     "execution_count": 130,
     "metadata": {},
     "output_type": "execute_result"
    }
   ],
   "source": [
    "x = df[df['week']==5]\n",
    "x"
   ]
  },
  {
   "cell_type": "markdown",
   "metadata": {},
   "source": [
    "## Twitter\n",
    "\n",
    "__some lists for starters__\n",
    "\n",
    "_nat gas_\n",
    "* [Peter Gardett](https://twitter.com/petergardett/lists)\n",
    "* [EIA](https://twitter.com/EIAgov/lists)\n",
    "* [InterfaxEnergy](https://twitter.com/InterfaxEnergy)\n",
    "* [Cohan](https://twitter.com/cohan_ds/lists)\n",
    "\n",
    "_power_\n",
    "* https://twitter.com/innotap\n",
    "* https://twitter.com/Brad_E_Foster\n",
    "* https://twitter.com/rtoinsider\n",
    "* https://twitter.com/MohitShrestha\n",
    "* https://twitter.com/nrgytariffxpert\n"
   ]
  },
  {
   "cell_type": "code",
   "execution_count": 192,
   "metadata": {
    "collapsed": true
   },
   "outputs": [],
   "source": [
    "import tweepy\n",
    "\n",
    "pd.set_option(\"display.max_rows\",1000)\n",
    "pd.set_option(\"display.max_columns\",50)\n",
    "pd.set_option(\"display.max_colwidth\",150)"
   ]
  },
  {
   "cell_type": "code",
   "execution_count": 135,
   "metadata": {
    "collapsed": true
   },
   "outputs": [],
   "source": [
    "consumer_key = 'UvB8nZGq2m4GcNk64Pv3U9kln'\n",
    "consumer_secret = 'FhX4W6SV1dGT0GZSBvTzHzt2eoYYS27SrqqKm4CGR3eiqwQURc'\n",
    "\n",
    "access_token ='18363853-642KR2i2Mq9ZB5aWwZbpziMUX39IfTTdsrlawUXKG'\n",
    "access_token_secret = 'dwGaU0xEMRJta5Qoos2k47tTEPYR3HwGp0D295nYV6ZxS'\n",
    "\n",
    "auth = tweepy.OAuthHandler(consumer_key, consumer_secret)\n",
    "auth.set_access_token(access_token, access_token_secret)\n",
    "\n",
    "api = tweepy.API(auth)"
   ]
  },
  {
   "cell_type": "code",
   "execution_count": 138,
   "metadata": {
    "collapsed": true
   },
   "outputs": [
    {
     "name": "stdout",
     "output_type": "stream",
     "text": [
      "TWEET 0:\n",
      "\n",
      "\tWhy the polls underrated Bernie Sanders in Michigan https://t.co/PjMAqcad8T\n",
      "\n",
      "\n",
      "TWEET 1:\n",
      "\n",
      "\tBarack Obama explained what’s wrong with Donald Trump in a speech in 2005! Watch: https://t.co/2y9R34HY2Q https://t.co/1qJRV2Cnzf\n",
      "\n",
      "\n",
      "TWEET 2:\n",
      "\n",
      "\t#Ecuador exports roughly 70% of the #crude #oil it produces https://t.co/jHugBvDqdF #InternationalEnergy https://t.co/GnkTMjQbs0\n",
      "\n",
      "\n"
     ]
    }
   ],
   "source": [
    "public_tweets = api.home_timeline()\n",
    "for (idx, tweet) in enumerate(public_tweets[0:3]): #First 3 tweets in my public feed\n",
    "    print ('TWEET %s:\\n\\n\\t%s\\n\\n' % (idx, tweet.text))"
   ]
  },
  {
   "cell_type": "code",
   "execution_count": 187,
   "metadata": {
    "collapsed": false
   },
   "outputs": [
    {
     "name": "stdout",
     "output_type": "stream",
     "text": [
      "dict_keys(['id_str', '_api', '_json', 'entities', 'contributors', 'in_reply_to_status_id', 'is_quote_status', 'place', 'geo', 'lang', 'source_url', 'user', 'id', 'favorited', 'in_reply_to_status_id_str', 'coordinates', 'retweeted', 'in_reply_to_user_id', 'favorite_count', 'text', 'retweet_count', 'truncated', 'metadata', 'created_at', 'in_reply_to_screen_name', 'source', 'in_reply_to_user_id_str', 'author'])\n"
     ]
    }
   ],
   "source": [
    "pprint(tweet.__dict__.keys())"
   ]
  },
  {
   "cell_type": "code",
   "execution_count": 147,
   "metadata": {
    "collapsed": true
   },
   "outputs": [
    {
     "data": {
      "text/plain": [
       "[{'name': '#Texans',\n",
       "  'promoted_content': None,\n",
       "  'query': '%23Texans',\n",
       "  'tweet_volume': 17539,\n",
       "  'url': 'http://twitter.com/search?q=%23Texans'},\n",
       " {'name': 'Broncos',\n",
       "  'promoted_content': None,\n",
       "  'query': 'Broncos',\n",
       "  'tweet_volume': 76096,\n",
       "  'url': 'http://twitter.com/search?q=Broncos'},\n",
       " {'name': 'Jets',\n",
       "  'promoted_content': None,\n",
       "  'query': 'Jets',\n",
       "  'tweet_volume': 57052,\n",
       "  'url': 'http://twitter.com/search?q=Jets'},\n",
       " {'name': 'Patrick Kane',\n",
       "  'promoted_content': None,\n",
       "  'query': '%22Patrick+Kane%22',\n",
       "  'tweet_volume': None,\n",
       "  'url': 'http://twitter.com/search?q=%22Patrick+Kane%22'},\n",
       " {'name': '#GetElectedIn3Words',\n",
       "  'promoted_content': None,\n",
       "  'query': '%23GetElectedIn3Words',\n",
       "  'tweet_volume': 12498,\n",
       "  'url': 'http://twitter.com/search?q=%23GetElectedIn3Words'},\n",
       " {'name': '#TheTriggering',\n",
       "  'promoted_content': None,\n",
       "  'query': '%23TheTriggering',\n",
       "  'tweet_volume': 155259,\n",
       "  'url': 'http://twitter.com/search?q=%23TheTriggering'},\n",
       " {'name': '#SonyIsDroppingDrLukeParty',\n",
       "  'promoted_content': None,\n",
       "  'query': '%23SonyIsDroppingDrLukeParty',\n",
       "  'tweet_volume': None,\n",
       "  'url': 'http://twitter.com/search?q=%23SonyIsDroppingDrLukeParty'},\n",
       " {'name': 'Ayesha Curry',\n",
       "  'promoted_content': None,\n",
       "  'query': '%22Ayesha+Curry%22',\n",
       "  'tweet_volume': 81805,\n",
       "  'url': 'http://twitter.com/search?q=%22Ayesha+Curry%22'},\n",
       " {'name': '#WednesdayWisdom',\n",
       "  'promoted_content': None,\n",
       "  'query': '%23WednesdayWisdom',\n",
       "  'tweet_volume': 34564,\n",
       "  'url': 'http://twitter.com/search?q=%23WednesdayWisdom'},\n",
       " {'name': 'Brandon Ingram',\n",
       "  'promoted_content': None,\n",
       "  'query': '%22Brandon+Ingram%22',\n",
       "  'tweet_volume': None,\n",
       "  'url': 'http://twitter.com/search?q=%22Brandon+Ingram%22'},\n",
       " {'name': 'Kaepernick',\n",
       "  'promoted_content': None,\n",
       "  'query': 'Kaepernick',\n",
       "  'tweet_volume': 13343,\n",
       "  'url': 'http://twitter.com/search?q=Kaepernick'},\n",
       " {'name': 'Cooney',\n",
       "  'promoted_content': None,\n",
       "  'query': 'Cooney',\n",
       "  'tweet_volume': None,\n",
       "  'url': 'http://twitter.com/search?q=Cooney'},\n",
       " {'name': 'Elway',\n",
       "  'promoted_content': None,\n",
       "  'query': 'Elway',\n",
       "  'tweet_volume': None,\n",
       "  'url': 'http://twitter.com/search?q=Elway'},\n",
       " {'name': 'Carly Fiorina',\n",
       "  'promoted_content': None,\n",
       "  'query': '%22Carly+Fiorina%22',\n",
       "  'tweet_volume': 33241,\n",
       "  'url': 'http://twitter.com/search?q=%22Carly+Fiorina%22'},\n",
       " {'name': 'Di Maria',\n",
       "  'promoted_content': None,\n",
       "  'query': '%22Di+Maria%22',\n",
       "  'tweet_volume': 28802,\n",
       "  'url': 'http://twitter.com/search?q=%22Di+Maria%22'},\n",
       " {'name': 'Sanu',\n",
       "  'promoted_content': None,\n",
       "  'query': 'Sanu',\n",
       "  'tweet_volume': None,\n",
       "  'url': 'http://twitter.com/search?q=Sanu'},\n",
       " {'name': 'Cat Barber',\n",
       "  'promoted_content': None,\n",
       "  'query': '%22Cat+Barber%22',\n",
       "  'tweet_volume': None,\n",
       "  'url': 'http://twitter.com/search?q=%22Cat+Barber%22'},\n",
       " {'name': 'Damon Harrison',\n",
       "  'promoted_content': None,\n",
       "  'query': '%22Damon+Harrison%22',\n",
       "  'tweet_volume': None,\n",
       "  'url': 'http://twitter.com/search?q=%22Damon+Harrison%22'},\n",
       " {'name': 'Jon Voight',\n",
       "  'promoted_content': None,\n",
       "  'query': '%22Jon+Voight%22',\n",
       "  'tweet_volume': None,\n",
       "  'url': 'http://twitter.com/search?q=%22Jon+Voight%22'},\n",
       " {'name': 'AFC South',\n",
       "  'promoted_content': None,\n",
       "  'query': '%22AFC+South%22',\n",
       "  'tweet_volume': None,\n",
       "  'url': 'http://twitter.com/search?q=%22AFC+South%22'},\n",
       " {'name': 'Android N',\n",
       "  'promoted_content': None,\n",
       "  'query': '%22Android+N%22',\n",
       "  'tweet_volume': 22113,\n",
       "  'url': 'http://twitter.com/search?q=%22Android+N%22'},\n",
       " {'name': 'Hoyer',\n",
       "  'promoted_content': None,\n",
       "  'query': 'Hoyer',\n",
       "  'tweet_volume': None,\n",
       "  'url': 'http://twitter.com/search?q=Hoyer'},\n",
       " {'name': 'Matt Flynn',\n",
       "  'promoted_content': None,\n",
       "  'query': '%22Matt+Flynn%22',\n",
       "  'tweet_volume': None,\n",
       "  'url': 'http://twitter.com/search?q=%22Matt+Flynn%22'},\n",
       " {'name': 'Doug Martin',\n",
       "  'promoted_content': None,\n",
       "  'query': '%22Doug+Martin%22',\n",
       "  'tweet_volume': 11309,\n",
       "  'url': 'http://twitter.com/search?q=%22Doug+Martin%22'},\n",
       " {'name': 'Case Keenum',\n",
       "  'promoted_content': None,\n",
       "  'query': '%22Case+Keenum%22',\n",
       "  'tweet_volume': None,\n",
       "  'url': 'http://twitter.com/search?q=%22Case+Keenum%22'},\n",
       " {'name': 'Rodney McLeod',\n",
       "  'promoted_content': None,\n",
       "  'query': '%22Rodney+McLeod%22',\n",
       "  'tweet_volume': 10279,\n",
       "  'url': 'http://twitter.com/search?q=%22Rodney+McLeod%22'},\n",
       " {'name': 'RGIII',\n",
       "  'promoted_content': None,\n",
       "  'query': 'RGIII',\n",
       "  'tweet_volume': 12313,\n",
       "  'url': 'http://twitter.com/search?q=RGIII'},\n",
       " {'name': 'Mark Barron',\n",
       "  'promoted_content': None,\n",
       "  'query': '%22Mark+Barron%22',\n",
       "  'tweet_volume': None,\n",
       "  'url': 'http://twitter.com/search?q=%22Mark+Barron%22'},\n",
       " {'name': 'Browns',\n",
       "  'promoted_content': None,\n",
       "  'query': 'Browns',\n",
       "  'tweet_volume': 30469,\n",
       "  'url': 'http://twitter.com/search?q=Browns'},\n",
       " {'name': 'Amber Rose',\n",
       "  'promoted_content': None,\n",
       "  'query': '%22Amber+Rose%22',\n",
       "  'tweet_volume': 26677,\n",
       "  'url': 'http://twitter.com/search?q=%22Amber+Rose%22'},\n",
       " {'name': 'Gayle Smith',\n",
       "  'promoted_content': None,\n",
       "  'query': '%22Gayle+Smith%22',\n",
       "  'tweet_volume': None,\n",
       "  'url': 'http://twitter.com/search?q=%22Gayle+Smith%22'},\n",
       " {'name': '#BookConfession',\n",
       "  'promoted_content': None,\n",
       "  'query': '%23BookConfession',\n",
       "  'tweet_volume': None,\n",
       "  'url': 'http://twitter.com/search?q=%23BookConfession'},\n",
       " {'name': '#RIPBIG',\n",
       "  'promoted_content': None,\n",
       "  'query': '%23RIPBIG',\n",
       "  'tweet_volume': 35919,\n",
       "  'url': 'http://twitter.com/search?q=%23RIPBIG'},\n",
       " {'name': '#CHEPSG',\n",
       "  'promoted_content': None,\n",
       "  'query': '%23CHEPSG',\n",
       "  'tweet_volume': 156077,\n",
       "  'url': 'http://twitter.com/search?q=%23CHEPSG'},\n",
       " {'name': '#WisdomFromA2YearOld',\n",
       "  'promoted_content': None,\n",
       "  'query': '%23WisdomFromA2YearOld',\n",
       "  'tweet_volume': None,\n",
       "  'url': 'http://twitter.com/search?q=%23WisdomFromA2YearOld'},\n",
       " {'name': '#ACCTourney',\n",
       "  'promoted_content': None,\n",
       "  'query': '%23ACCTourney',\n",
       "  'tweet_volume': None,\n",
       "  'url': 'http://twitter.com/search?q=%23ACCTourney'},\n",
       " {'name': '#Cuse',\n",
       "  'promoted_content': None,\n",
       "  'query': '%23Cuse',\n",
       "  'tweet_volume': None,\n",
       "  'url': 'http://twitter.com/search?q=%23Cuse'},\n",
       " {'name': '#UndergroundJL',\n",
       "  'promoted_content': None,\n",
       "  'query': '%23UndergroundJL',\n",
       "  'tweet_volume': None,\n",
       "  'url': 'http://twitter.com/search?q=%23UndergroundJL'},\n",
       " {'name': '#NationalMeatballDay',\n",
       "  'promoted_content': None,\n",
       "  'query': '%23NationalMeatballDay',\n",
       "  'tweet_volume': None,\n",
       "  'url': 'http://twitter.com/search?q=%23NationalMeatballDay'},\n",
       " {'name': '#ExpediaChat',\n",
       "  'promoted_content': None,\n",
       "  'query': '%23ExpediaChat',\n",
       "  'tweet_volume': None,\n",
       "  'url': 'http://twitter.com/search?q=%23ExpediaChat'},\n",
       " {'name': '#GreenwoodExplosion',\n",
       "  'promoted_content': None,\n",
       "  'query': '%23GreenwoodExplosion',\n",
       "  'tweet_volume': None,\n",
       "  'url': 'http://twitter.com/search?q=%23GreenwoodExplosion'},\n",
       " {'name': '#TheAmuseBouche',\n",
       "  'promoted_content': None,\n",
       "  'query': '%23TheAmuseBouche',\n",
       "  'tweet_volume': None,\n",
       "  'url': 'http://twitter.com/search?q=%23TheAmuseBouche'},\n",
       " {'name': '#stylechat',\n",
       "  'promoted_content': None,\n",
       "  'query': '%23stylechat',\n",
       "  'tweet_volume': None,\n",
       "  'url': 'http://twitter.com/search?q=%23stylechat'},\n",
       " {'name': '#LearnPositive',\n",
       "  'promoted_content': None,\n",
       "  'query': '%23LearnPositive',\n",
       "  'tweet_volume': None,\n",
       "  'url': 'http://twitter.com/search?q=%23LearnPositive'},\n",
       " {'name': '#AlvarezMustGo',\n",
       "  'promoted_content': None,\n",
       "  'query': '%23AlvarezMustGo',\n",
       "  'tweet_volume': None,\n",
       "  'url': 'http://twitter.com/search?q=%23AlvarezMustGo'}]"
      ]
     },
     "execution_count": 147,
     "metadata": {},
     "output_type": "execute_result"
    }
   ],
   "source": [
    "top10 = api.trends_place(id=2379574)\n",
    "top10[0]['trends']"
   ]
  },
  {
   "cell_type": "code",
   "execution_count": 149,
   "metadata": {
    "collapsed": true
   },
   "outputs": [
    {
     "name": "stdout",
     "output_type": "stream",
     "text": [
      "#Texans http://twitter.com/search?q=%23Texans\n",
      "Broncos http://twitter.com/search?q=Broncos\n",
      "Jets http://twitter.com/search?q=Jets\n",
      "Patrick Kane http://twitter.com/search?q=%22Patrick+Kane%22\n",
      "#GetElectedIn3Words http://twitter.com/search?q=%23GetElectedIn3Words\n",
      "#TheTriggering http://twitter.com/search?q=%23TheTriggering\n",
      "#SonyIsDroppingDrLukeParty http://twitter.com/search?q=%23SonyIsDroppingDrLukeParty\n",
      "Ayesha Curry http://twitter.com/search?q=%22Ayesha+Curry%22\n",
      "#WednesdayWisdom http://twitter.com/search?q=%23WednesdayWisdom\n",
      "Brandon Ingram http://twitter.com/search?q=%22Brandon+Ingram%22\n",
      "Kaepernick http://twitter.com/search?q=Kaepernick\n",
      "Cooney http://twitter.com/search?q=Cooney\n",
      "Elway http://twitter.com/search?q=Elway\n",
      "Carly Fiorina http://twitter.com/search?q=%22Carly+Fiorina%22\n",
      "Di Maria http://twitter.com/search?q=%22Di+Maria%22\n",
      "Sanu http://twitter.com/search?q=Sanu\n",
      "Cat Barber http://twitter.com/search?q=%22Cat+Barber%22\n",
      "Damon Harrison http://twitter.com/search?q=%22Damon+Harrison%22\n",
      "Jon Voight http://twitter.com/search?q=%22Jon+Voight%22\n",
      "AFC South http://twitter.com/search?q=%22AFC+South%22\n",
      "Android N http://twitter.com/search?q=%22Android+N%22\n",
      "Hoyer http://twitter.com/search?q=Hoyer\n",
      "Matt Flynn http://twitter.com/search?q=%22Matt+Flynn%22\n",
      "Doug Martin http://twitter.com/search?q=%22Doug+Martin%22\n",
      "Case Keenum http://twitter.com/search?q=%22Case+Keenum%22\n",
      "Rodney McLeod http://twitter.com/search?q=%22Rodney+McLeod%22\n",
      "RGIII http://twitter.com/search?q=RGIII\n",
      "Mark Barron http://twitter.com/search?q=%22Mark+Barron%22\n",
      "Browns http://twitter.com/search?q=Browns\n",
      "Amber Rose http://twitter.com/search?q=%22Amber+Rose%22\n",
      "Gayle Smith http://twitter.com/search?q=%22Gayle+Smith%22\n",
      "#BookConfession http://twitter.com/search?q=%23BookConfession\n",
      "#RIPBIG http://twitter.com/search?q=%23RIPBIG\n",
      "#CHEPSG http://twitter.com/search?q=%23CHEPSG\n",
      "#WisdomFromA2YearOld http://twitter.com/search?q=%23WisdomFromA2YearOld\n",
      "#ACCTourney http://twitter.com/search?q=%23ACCTourney\n",
      "#Cuse http://twitter.com/search?q=%23Cuse\n",
      "#UndergroundJL http://twitter.com/search?q=%23UndergroundJL\n",
      "#NationalMeatballDay http://twitter.com/search?q=%23NationalMeatballDay\n",
      "#ExpediaChat http://twitter.com/search?q=%23ExpediaChat\n",
      "#GreenwoodExplosion http://twitter.com/search?q=%23GreenwoodExplosion\n",
      "#TheAmuseBouche http://twitter.com/search?q=%23TheAmuseBouche\n",
      "#stylechat http://twitter.com/search?q=%23stylechat\n",
      "#LearnPositive http://twitter.com/search?q=%23LearnPositive\n",
      "#AlvarezMustGo http://twitter.com/search?q=%23AlvarezMustGo\n"
     ]
    }
   ],
   "source": [
    "for trend in top10[0]['trends']:\n",
    "    print (trend['name'], trend['url'])"
   ]
  },
  {
   "cell_type": "code",
   "execution_count": 208,
   "metadata": {
    "collapsed": false,
    "scrolled": true
   },
   "outputs": [
    {
     "name": "stdout",
     "output_type": "stream",
     "text": [
      "<class 'tweepy.models.SearchResults'>\n"
     ]
    }
   ],
   "source": [
    "results = api.search(q='Henry Hub', count=5, lang='en')\n",
    "print (type(results))"
   ]
  },
  {
   "cell_type": "code",
   "execution_count": 186,
   "metadata": {
    "collapsed": true
   },
   "outputs": [
    {
     "name": "stdout",
     "output_type": "stream",
     "text": [
      "2016-03-09 21:33:29 \n",
      " @cohan_ds @N565UA @CycloneCharlie8 If you followed our charts u know our tgt you said henry Hub was at a price it aint been in 20 years \n",
      "\n",
      "\n",
      "2016-03-09 21:00:39 \n",
      " @N565UA @CycloneCharlie8 @TradersCom\n",
      "EIA now forecasts Henry Hub rising &gt;40% in 2016 from current $1.56.\n",
      "https://t.co/fHOaNubeHm \n",
      "\n",
      "\n",
      "2016-03-09 20:47:20 \n",
      " Henry Hub #natgas prices, now $1.56, not following #EIAErrors.\n",
      "https://t.co/q7iWy9GW93\n",
      "@CycloneCharlie8 @TradersCom https://t.co/q2BdWatEFM \n",
      "\n",
      "\n",
      "2016-03-09 20:40:04 \n",
      " EIA forecasts 2016 avg #natgas $2.25/MMBtu https://t.co/uWLp3o9nTp\n",
      "Henry Hub price now $1.56\n",
      "https://t.co/Pm0ZWhDKCU https://t.co/uV2nh1TM1x \n",
      "\n",
      "\n",
      "2016-03-09 18:45:42 \n",
      " @concur #ConcurFusion Three great sessions yesterday. Shout out to Jena Henry at the SMB hub for the great help. Productive convention \n",
      "\n",
      "\n"
     ]
    }
   ],
   "source": [
    "for tweet in results:\n",
    "    print (tweet.created_at, '\\n',  tweet.text, '\\n\\n')"
   ]
  },
  {
   "cell_type": "code",
   "execution_count": 193,
   "metadata": {
    "collapsed": false
   },
   "outputs": [
    {
     "data": {
      "text/html": [
       "<div>\n",
       "<table border=\"1\" class=\"dataframe\">\n",
       "  <thead>\n",
       "    <tr style=\"text-align: right;\">\n",
       "      <th></th>\n",
       "      <th>text</th>\n",
       "    </tr>\n",
       "  </thead>\n",
       "  <tbody>\n",
       "    <tr>\n",
       "      <th>0</th>\n",
       "      <td>@cohan_ds @N565UA @CycloneCharlie8 If you followed our charts u know our tgt you said henry Hub was at a price it aint been in 20 years</td>\n",
       "    </tr>\n",
       "    <tr>\n",
       "      <th>1</th>\n",
       "      <td>@N565UA @CycloneCharlie8 @TradersCom\\nEIA now forecasts Henry Hub rising &amp;gt;40% in 2016 from current $1.56.\\nhttps://t.co/fHOaNubeHm</td>\n",
       "    </tr>\n",
       "    <tr>\n",
       "      <th>2</th>\n",
       "      <td>Henry Hub #natgas prices, now $1.56, not following #EIAErrors.\\nhttps://t.co/q7iWy9GW93\\n@CycloneCharlie8 @TradersCom https://t.co/q2BdWatEFM</td>\n",
       "    </tr>\n",
       "    <tr>\n",
       "      <th>3</th>\n",
       "      <td>EIA forecasts 2016 avg #natgas $2.25/MMBtu https://t.co/uWLp3o9nTp\\nHenry Hub price now $1.56\\nhttps://t.co/Pm0ZWhDKCU https://t.co/uV2nh1TM1x</td>\n",
       "    </tr>\n",
       "    <tr>\n",
       "      <th>4</th>\n",
       "      <td>@concur #ConcurFusion Three great sessions yesterday. Shout out to Jena Henry at the SMB hub for the great help. Productive convention</td>\n",
       "    </tr>\n",
       "  </tbody>\n",
       "</table>\n",
       "</div>"
      ],
      "text/plain": [
       "                                                                                                                                             text\n",
       "0         @cohan_ds @N565UA @CycloneCharlie8 If you followed our charts u know our tgt you said henry Hub was at a price it aint been in 20 years\n",
       "1           @N565UA @CycloneCharlie8 @TradersCom\\nEIA now forecasts Henry Hub rising &gt;40% in 2016 from current $1.56.\\nhttps://t.co/fHOaNubeHm\n",
       "2   Henry Hub #natgas prices, now $1.56, not following #EIAErrors.\\nhttps://t.co/q7iWy9GW93\\n@CycloneCharlie8 @TradersCom https://t.co/q2BdWatEFM\n",
       "3  EIA forecasts 2016 avg #natgas $2.25/MMBtu https://t.co/uWLp3o9nTp\\nHenry Hub price now $1.56\\nhttps://t.co/Pm0ZWhDKCU https://t.co/uV2nh1TM1x\n",
       "4          @concur #ConcurFusion Three great sessions yesterday. Shout out to Jena Henry at the SMB hub for the great help. Productive convention"
      ]
     },
     "execution_count": 193,
     "metadata": {},
     "output_type": "execute_result"
    }
   ],
   "source": [
    "tweets = pd.DataFrame()\n",
    "\n",
    "tweets[\"text\"] = [tweet.text for tweet in results]\n",
    "\n",
    "tweets"
   ]
  },
  {
   "cell_type": "code",
   "execution_count": 157,
   "metadata": {
    "collapsed": true
   },
   "outputs": [
    {
     "name": "stdout",
     "output_type": "stream",
     "text": [
      "2016-03-09 21:00:39 \n",
      " @N565UA @CycloneCharlie8 @TradersCom\n",
      "EIA now forecasts Henry Hub rising &gt;40% in 2016 from current $1.56.\n",
      "https://t.co/fHOaNubeHm \n",
      "\n",
      "\n",
      "2016-03-09 20:47:20 \n",
      " Henry Hub #natgas prices, now $1.56, not following #EIAErrors.\n",
      "https://t.co/q7iWy9GW93\n",
      "@CycloneCharlie8 @TradersCom https://t.co/q2BdWatEFM \n",
      "\n",
      "\n",
      "2016-03-09 20:40:04 \n",
      " EIA forecasts 2016 avg #natgas $2.25/MMBtu https://t.co/uWLp3o9nTp\n",
      "Henry Hub price now $1.56\n",
      "https://t.co/Pm0ZWhDKCU https://t.co/uV2nh1TM1x \n",
      "\n",
      "\n",
      "2016-03-09 18:45:42 \n",
      " @concur #ConcurFusion Three great sessions yesterday. Shout out to Jena Henry at the SMB hub for the great help. Productive convention \n",
      "\n",
      "\n",
      "2016-03-09 17:50:25 \n",
      " @ConcurFusion. Special thanks to SMB hub and Jena Henry for the help yesterday. Made the trip worth it. #aboveandbeyond \n",
      "\n",
      "\n"
     ]
    }
   ],
   "source": [
    "for tweet in api.search(q='Henry Hub', count=5, show_user=False, lang='en'):\n",
    "    print (tweet.created_at, '\\n',  tweet.text, '\\n\\n')"
   ]
  },
  {
   "cell_type": "code",
   "execution_count": 166,
   "metadata": {
    "collapsed": true
   },
   "outputs": [
    {
     "data": {
      "text/plain": [
       "User(location='Houston, TX', friends_count=2615, id_str='2505359724', _api=<tweepy.api.API object at 0x0000000008EDCEF0>, has_extended_profile=True, _json={'location': 'Houston, TX', 'friends_count': 2615, 'profile_use_background_image': False, 'id_str': '2505359724', 'description': 'Air Climate Energy education and research via https://t.co/wl061pTe3D. NASA AQAST. #ScientistReporter for The Hill et al. #SurplusSolar. Dad of 2 awesome kids.', 'profile_sidebar_fill_color': '000000', 'created_at': 'Sun May 18 19:51:11 +0000 2014', 'has_extended_profile': True, 'profile_banner_url': 'https://pbs.twimg.com/profile_banners/2505359724/1455292491', 'contributors_enabled': False, 'profile_background_image_url_https': 'https://abs.twimg.com/images/themes/theme1/bg.png', 'profile_background_color': '000000', 'default_profile_image': False, 'name': 'Daniel Cohan', 'default_profile': False, 'lang': 'en', 'favourites_count': 3708, 'profile_sidebar_border_color': '000000', 'following': False, 'verified': False, 'profile_background_tile': False, 'follow_request_sent': False, 'time_zone': 'Pacific Time (US & Canada)', 'profile_background_image_url': 'http://abs.twimg.com/images/themes/theme1/bg.png', 'is_translation_enabled': False, 'id': 2505359724, 'listed_count': 96, 'protected': False, 'profile_text_color': '000000', 'profile_link_color': '1B95E0', 'statuses_count': 11711, 'geo_enabled': True, 'is_translator': False, 'profile_image_url_https': 'https://pbs.twimg.com/profile_images/698173784629473280/M9gyn_WR_normal.jpg', 'entities': {'url': {'urls': [{'url': 'https://t.co/brn2AU5rr1', 'expanded_url': 'http://cohan.rice.edu', 'indices': [0, 23], 'display_url': 'cohan.rice.edu'}]}, 'description': {'urls': [{'url': 'https://t.co/wl061pTe3D', 'expanded_url': 'http://air.rice.edu', 'indices': [46, 69], 'display_url': 'air.rice.edu'}]}}, 'screen_name': 'cohan_ds', 'followers_count': 1516, 'url': 'https://t.co/brn2AU5rr1', 'utc_offset': -28800, 'notifications': False, 'profile_image_url': 'http://pbs.twimg.com/profile_images/698173784629473280/M9gyn_WR_normal.jpg'}, favourites_count=3708, contributors_enabled=False, profile_background_color='000000', screen_name='cohan_ds', name='Daniel Cohan', default_profile=False, profile_link_color='1B95E0', lang='en', following=False, profile_sidebar_border_color='000000', verified=False, profile_background_tile=False, follow_request_sent=False, time_zone='Pacific Time (US & Canada)', profile_background_image_url='http://abs.twimg.com/images/themes/theme1/bg.png', description='Air Climate Energy education and research via https://t.co/wl061pTe3D. NASA AQAST. #ScientistReporter for The Hill et al. #SurplusSolar. Dad of 2 awesome kids.', is_translation_enabled=False, id=2505359724, profile_image_url_https='https://pbs.twimg.com/profile_images/698173784629473280/M9gyn_WR_normal.jpg', protected=False, profile_sidebar_fill_color='000000', followers_count=1516, entities={'url': {'urls': [{'url': 'https://t.co/brn2AU5rr1', 'expanded_url': 'http://cohan.rice.edu', 'indices': [0, 23], 'display_url': 'cohan.rice.edu'}]}, 'description': {'urls': [{'url': 'https://t.co/wl061pTe3D', 'expanded_url': 'http://air.rice.edu', 'indices': [46, 69], 'display_url': 'air.rice.edu'}]}}, profile_text_color='000000', profile_use_background_image=False, statuses_count=11711, profile_banner_url='https://pbs.twimg.com/profile_banners/2505359724/1455292491', profile_background_image_url_https='https://abs.twimg.com/images/themes/theme1/bg.png', is_translator=False, profile_image_url='http://pbs.twimg.com/profile_images/698173784629473280/M9gyn_WR_normal.jpg', created_at=datetime.datetime(2014, 5, 18, 19, 51, 11), default_profile_image=False, geo_enabled=True, url='https://t.co/brn2AU5rr1', listed_count=96, notifications=False, utc_offset=-28800)"
      ]
     },
     "execution_count": 166,
     "metadata": {},
     "output_type": "execute_result"
    }
   ],
   "source": [
    "results[0].user"
   ]
  },
  {
   "cell_type": "code",
   "execution_count": 206,
   "metadata": {
    "collapsed": false
   },
   "outputs": [],
   "source": [
    "new_tweets = api.user_timeline(screen_name='GenscapeWx', count=5)"
   ]
  },
  {
   "cell_type": "code",
   "execution_count": 223,
   "metadata": {
    "collapsed": false
   },
   "outputs": [
    {
     "name": "stdout",
     "output_type": "stream",
     "text": [
      "With models offering a wide range of scenarios, will we have El Nino, La Nina, or neutral conditions this summer?   http://twitter.com\n",
      "More #snow for #California and greater West nxt 10 days. Good for #drought, #hydropower.\n",
      "@genscape #renewables #cawx https://t.co/JY1SJhxq0N   http://twitter.com\n",
      "The difference a week makes! Avg #snow depth up 11\", nearly 2x areal coverage in #SierraNevada mtns.\n",
      "@genscape #cawx https://t.co/11RwTOsXDC   http://twitter.com\n",
      "More wild #txwx on the way through early nxt wk; #flood threat into Fri followed by anomalous #heat Mon. @genscape https://t.co/823wYjN4hI   http://twitter.com\n",
      "Pronounced East Coast ridge drives #record #warmth &amp; weak #energy demand into Mid-March. @genscape https://t.co/0X9QWF4rRj   http://twitter.com\n"
     ]
    }
   ],
   "source": [
    "for tweet in new_tweets:\n",
    "    print (tweet.text, ' ', tweet.source_url)"
   ]
  },
  {
   "cell_type": "code",
   "execution_count": 216,
   "metadata": {
    "collapsed": false,
    "scrolled": true
   },
   "outputs": [
    {
     "name": "stdout",
     "output_type": "stream",
     "text": [
      "dict_keys(['id_str', '_api', '_json', 'entities', 'contributors', 'in_reply_to_status_id', 'is_quote_status', 'place', 'geo', 'lang', 'source_url', 'user', 'id', 'favorited', 'in_reply_to_status_id_str', 'coordinates', 'retweeted', 'in_reply_to_user_id', 'favorite_count', 'text', 'retweet_count', 'truncated', 'created_at', 'in_reply_to_screen_name', 'source', 'in_reply_to_user_id_str', 'author'])\n"
     ]
    }
   ],
   "source": [
    "print(new_tweets[0].__dict__.keys())"
   ]
  },
  {
   "cell_type": "markdown",
   "metadata": {},
   "source": [
    "### Boneyard"
   ]
  },
  {
   "cell_type": "code",
   "execution_count": null,
   "metadata": {
    "collapsed": true
   },
   "outputs": [],
   "source": [
    "# C = df.groupby(['week'])['change'].mean()\n",
    "# T = df.groupby(['week'])['storageUS'].mean()\n",
    "\n",
    "# #stats = pd.DataFrame(C,T)\n",
    "# #stats.index.name = 'week'\n",
    "\n",
    "#calculations done outside the dict\n",
    "# HLast = float_formatter(NGFirst.ix[-1])\n",
    "# HFirst = float_formatter(NGFirst.ix[0])\n",
    "# float_formatter(NGFirst.max())\n",
    "# float_formatter(NGFirst.min())\n",
    "# NGchng.ix[len(NGchng.index)-1]\n",
    "# OIchng.ix[len(OIchng.index)-1]\n",
    "\n",
    "\n",
    "#\"{:,}\".format(x[0].astype(int))\n",
    "#NGMar = NGMar.resample('5D',how='ohlc')"
   ]
  }
 ],
 "metadata": {
  "kernelspec": {
   "display_name": "Python 3",
   "language": "python",
   "name": "python3"
  },
  "language_info": {
   "codemirror_mode": {
    "name": "ipython",
    "version": 3
   },
   "file_extension": ".py",
   "mimetype": "text/x-python",
   "name": "python",
   "nbconvert_exporter": "python",
   "pygments_lexer": "ipython3",
   "version": "3.5.1"
  }
 },
 "nbformat": 4,
 "nbformat_minor": 0
}
